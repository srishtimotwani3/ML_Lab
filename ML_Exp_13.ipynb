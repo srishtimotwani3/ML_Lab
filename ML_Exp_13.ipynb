{
  "nbformat": 4,
  "nbformat_minor": 0,
  "metadata": {
    "colab": {
      "provenance": [],
      "authorship_tag": "ABX9TyPHnADAjFq4kcjsUChT0eGS"
    },
    "kernelspec": {
      "name": "python3",
      "display_name": "Python 3"
    },
    "language_info": {
      "name": "python"
    }
  },
  "cells": [
    {
      "cell_type": "code",
      "execution_count": 1,
      "metadata": {
        "colab": {
          "base_uri": "https://localhost:8080/"
        },
        "id": "UV8tvefws366",
        "outputId": "25657310-b5b6-4fbd-f863-86ee4988f89a"
      },
      "outputs": [
        {
          "output_type": "stream",
          "name": "stdout",
          "text": [
            "--- Linear Discriminant Analysis (LDA) as Classifier Results ---\n",
            "Classification Report:\n",
            "              precision    recall  f1-score   support\n",
            "\n",
            "           0       0.99      1.00      0.99       160\n",
            "           1       0.75      0.50      0.60         6\n",
            "           2       0.25      0.25      0.25         4\n",
            "           3       1.00      1.00      1.00         7\n",
            "\n",
            "    accuracy                           0.97       177\n",
            "   macro avg       0.75      0.69      0.71       177\n",
            "weighted avg       0.96      0.97      0.96       177\n",
            "\n",
            "\n",
            "--- LDA for Dimensionality Reduction Results ---\n",
            "Original Feature Count: 12\n",
            "Reduced LDA Shape: (412, 3)\n",
            "Proportion of variance explained by each discriminant function:\n",
            "[0.8434 0.1367 0.0199]\n"
          ]
        }
      ],
      "source": [
        "import pandas as pd\n",
        "from sklearn.discriminant_analysis import LinearDiscriminantAnalysis\n",
        "from sklearn.model_selection import train_test_split\n",
        "from sklearn.preprocessing import StandardScaler\n",
        "from sklearn.metrics import classification_report\n",
        "import numpy as np\n",
        "\n",
        "# Load and preprocess data\n",
        "try:\n",
        "    df = pd.read_csv('HepatitisCdata.csv', index_col=0)\n",
        "except FileNotFoundError:\n",
        "    print(\"Please ensure 'HepatitisCdata.csv' is uploaded.\")\n",
        "    exit()\n",
        "\n",
        "df = df.replace('?', np.nan)\n",
        "for col in ['ALB', 'ALP', 'ALT', 'AST', 'BIL', 'CHE', 'CHOL', 'CREA', 'GGT', 'PROT']:\n",
        "    df[col] = pd.to_numeric(df[col])\n",
        "df = df.dropna()\n",
        "\n",
        "df['Sex'] = df['Sex'].map({'m': 1, 'f': 0})\n",
        "# Handle '0s=suspect Blood Donor' by replacing '0s' with '0' before splitting\n",
        "df['Category'] = df['Category'].str.replace('0s=', '0=').str.split('=').str[0].astype(int)\n",
        "\n",
        "X = df.drop('Category', axis=1)\n",
        "y = df['Category']\n",
        "\n",
        "# Split and Scale\n",
        "X_train, X_test, y_train, y_test = train_test_split(X, y, test_size=0.3, random_state=42, stratify=y)\n",
        "scaler = StandardScaler()\n",
        "X_train_scaled = scaler.fit_transform(X_train)\n",
        "X_test_scaled = scaler.transform(X_test)\n",
        "\n",
        "# --- 1. LDA as a Classifier ---\n",
        "lda_classifier = LinearDiscriminantAnalysis()\n",
        "lda_classifier.fit(X_train_scaled, y_train)\n",
        "\n",
        "y_pred = lda_classifier.predict(X_test_scaled)\n",
        "\n",
        "print(\"--- Linear Discriminant Analysis (LDA) as Classifier Results ---\")\n",
        "print(\"Classification Report:\")\n",
        "print(classification_report(y_test, y_pred))\n",
        "\n",
        "# --- 2. LDA for Dimensionality Reduction (Max components = C-1) ---\n",
        "# C=4 classes after preprocessing -> max 3 components\n",
        "lda_reduction = LinearDiscriminantAnalysis(n_components=3)\n",
        "lda_reduction.fit(X_train_scaled, y_train)\n",
        "X_train_lda = lda_reduction.transform(X_train_scaled)\n",
        "\n",
        "print(\"\\n--- LDA for Dimensionality Reduction Results ---\")\n",
        "print(f\"Original Feature Count: {X_train_scaled.shape[1]}\")\n",
        "print(f\"Reduced LDA Shape: {X_train_lda.shape}\")\n",
        "print(f\"Proportion of variance explained by each discriminant function:\")\n",
        "print(lda_reduction.explained_variance_ratio_.round(4))\n"
      ]
    }
  ]
}