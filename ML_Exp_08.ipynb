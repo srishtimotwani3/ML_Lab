{
  "nbformat": 4,
  "nbformat_minor": 0,
  "metadata": {
    "colab": {
      "provenance": [],
      "authorship_tag": "ABX9TyPCspEk1eRbA3w/tZ0vg7EO"
    },
    "kernelspec": {
      "name": "python3",
      "display_name": "Python 3"
    },
    "language_info": {
      "name": "python"
    }
  },
  "cells": [
    {
      "cell_type": "code",
      "execution_count": 2,
      "metadata": {
        "colab": {
          "base_uri": "https://localhost:8080/"
        },
        "id": "8yV8a4_XH0_Z",
        "outputId": "5538c40b-8d3b-48d7-d533-b44c2dd8d550"
      },
      "outputs": [
        {
          "output_type": "stream",
          "name": "stdout",
          "text": [
            "\n",
            "--- AND Gate using MP Neuron ---\n",
            "x1 | x2 | Output\n",
            "---|----|-------\n",
            "0  | 0  | 0\n",
            "0  | 1  | 0\n",
            "1  | 0  | 0\n",
            "1  | 1  | 1\n",
            "\n",
            "--- OR Gate using MP Neuron ---\n",
            "x1 | x2 | Output\n",
            "---|----|-------\n",
            "0  | 0  | 0\n",
            "0  | 1  | 1\n",
            "1  | 0  | 1\n",
            "1  | 1  | 1\n",
            "\n",
            "--- NOT Gate using MP Neuron (x1 only) ---\n",
            "x1 | Output\n",
            "---|-------\n",
            "0  | 1\n",
            "1  | 0\n"
          ]
        }
      ],
      "source": [
        "def mp_neuron(x1, x2, w1, w2, theta):\n",
        "    \"\"\"\n",
        "    Simulates an MP Neuron.\n",
        "    x1, x2: Input features (0 or 1)\n",
        "    w1, w2: Weights\n",
        "    theta: Threshold\n",
        "    \"\"\"\n",
        "    weighted_sum = x1 * w1 + x2 * w2\n",
        "    if weighted_sum >= theta:\n",
        "        return 1\n",
        "    else:\n",
        "        return 0\n",
        "\n",
        "def test_gate(gate_name, w1, w2, theta):\n",
        "    \"\"\"Tests an MP neuron configuration for a logic gate.\"\"\"\n",
        "    print(f\"\\n--- {gate_name} Gate using MP Neuron ---\")\n",
        "    print(\"x1 | x2 | Output\")\n",
        "    print(\"---|----|-------\")\n",
        "    for x1 in [0, 1]:\n",
        "        for x2 in [0, 1]:\n",
        "            output = mp_neuron(x1, x2, w1, w2, theta)\n",
        "            print(f\"{x1}  | {x2}  | {output}\")\n",
        "\n",
        "# --- 1. AND Gate ---\n",
        "# Requires both inputs to be 1 to exceed the threshold.\n",
        "# Sum: x1 + x2. Needs sum >= 2.\n",
        "test_gate(\"AND\", w1=1, w2=1, theta=2)\n",
        "# Note: For AND, w1=0.5, w2=0.5, theta=1 also works if weights are > 0\n",
        "\n",
        "# --- 2. OR Gate ---\n",
        "# Requires at least one input to be 1 to exceed the threshold.\n",
        "# Sum: x1 + x2. Needs sum >= 1.\n",
        "test_gate(\"OR\", w1=1, w2=1, theta=1)\n",
        "\n",
        "# --- 3. NOT Gate (One input: x1) ---\n",
        "# Use x1 as the only input, and w2=0.\n",
        "# The goal is to output 1 when x1=0, and 0 when x1=1.\n",
        "# This requires a negative weight on the input.\n",
        "# w1=-1, theta=0:\n",
        "# x1=0: 0*(-1) = 0. 0 >= 0 (Output 1) - Correct.\n",
        "# x1=1: 1*(-1) = -1. -1 < 0 (Output 0) - Correct.\n",
        "print(\"\\n--- NOT Gate using MP Neuron (x1 only) ---\")\n",
        "print(\"x1 | Output\")\n",
        "print(\"---|-------\")\n",
        "for x1 in [0, 1]:\n",
        "    output = mp_neuron(x1, 0, w1=-1, w2=0, theta=0)\n",
        "    print(f\"{x1}  | {output}\")"
      ]
    }
  ]
}