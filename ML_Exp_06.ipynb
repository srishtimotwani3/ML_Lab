{
  "nbformat": 4,
  "nbformat_minor": 0,
  "metadata": {
    "colab": {
      "provenance": [],
      "authorship_tag": "ABX9TyMuRC8lCcr1RPW25T85B6Kl"
    },
    "kernelspec": {
      "name": "python3",
      "display_name": "Python 3"
    },
    "language_info": {
      "name": "python"
    }
  },
  "cells": [
    {
      "cell_type": "code",
      "execution_count": 1,
      "metadata": {
        "colab": {
          "base_uri": "https://localhost:8080/"
        },
        "id": "wGFbV2p5pHFg",
        "outputId": "543d868f-4975-4602-871a-5ad7b489e5e2"
      },
      "outputs": [
        {
          "output_type": "stream",
          "name": "stdout",
          "text": [
            "--- Support Vector Machines (SVC with RBF Kernel) Results ---\n",
            "Number of Support Vectors: [69 14  8 17]\n",
            "Classes: [0 1 2 3]\n",
            "\n",
            "Classification Report:\n",
            "              precision    recall  f1-score   support\n",
            "\n",
            "           0       0.96      1.00      0.98       160\n",
            "           1       0.67      0.33      0.44         6\n",
            "           2       0.50      0.25      0.33         4\n",
            "           3       1.00      0.71      0.83         7\n",
            "\n",
            "    accuracy                           0.95       177\n",
            "   macro avg       0.78      0.57      0.65       177\n",
            "weighted avg       0.94      0.95      0.94       177\n",
            "\n"
          ]
        }
      ],
      "source": [
        "import pandas as pd\n",
        "from sklearn.model_selection import train_test_split\n",
        "from sklearn.svm import SVC\n",
        "from sklearn.preprocessing import StandardScaler\n",
        "from sklearn.metrics import classification_report\n",
        "import numpy as np\n",
        "# Load and preprocess data (same as experiment 3)\n",
        "try:\n",
        "  df = pd.read_csv('HepatitisCdata.csv', index_col=0)\n",
        "except FileNotFoundError:\n",
        "  print(\"Please ensure 'HepatitisCdata.csv' is uploaded.\")\n",
        "  exit()\n",
        "df = df.replace('?', np.nan)\n",
        "for col in ['ALB', 'ALP', 'ALT', 'AST', 'BIL', 'CHE', 'CHOL', 'CREA', 'GGT', 'PROT']:\n",
        "  df[col] = pd.to_numeric(df[col])\n",
        "df = df.dropna()\n",
        "df['Sex'] = df['Sex'].map({'m': 1, 'f': 0})\n",
        "# Handle '0s=suspect Blood Donor' by replacing '0s' with '0' before splitting\n",
        "df['Category'] = df['Category'].str.replace('0s=', '0=').str.split('=').str[0].astype(int)\n",
        "X = df.drop('Category', axis=1)\n",
        "y = df['Category']\n",
        "X_train, X_test, y_train, y_test = train_test_split(X, y, test_size=0.3, random_state=42, stratify=y)\n",
        "# Scale features\n",
        "scaler = StandardScaler()\n",
        "X_train_scaled = scaler.fit_transform(X_train)\n",
        "X_test_scaled = scaler.transform(X_test)\n",
        "# --- SVM Implementation ---\n",
        "# SVC with RBF kernel for non-linear classification\n",
        "# C is the regularization parameter, gamma defines the influence of a single training example\n",
        "svm_model = SVC(kernel='rbf', C=1.0, gamma='scale', random_state=42)\n",
        "svm_model.fit(X_train_scaled, y_train)\n",
        "# Predict\n",
        "y_pred = svm_model.predict(X_test_scaled)\n",
        "# Evaluate\n",
        "print(\"--- Support Vector Machines (SVC with RBF Kernel) Results ---\")\n",
        "print(f\"Number of Support Vectors: {svm_model.n_support_}\")\n",
        "print(f\"Classes: {svm_model.classes_}\")\n",
        "print(\"\\nClassification Report:\")\n",
        "print(classification_report(y_test, y_pred))"
      ]
    }
  ]
}