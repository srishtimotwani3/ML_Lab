{
  "nbformat": 4,
  "nbformat_minor": 0,
  "metadata": {
    "colab": {
      "provenance": [],
      "authorship_tag": "ABX9TyOQulwSRYWOXUDATVli/Jpo"
    },
    "kernelspec": {
      "name": "python3",
      "display_name": "Python 3"
    },
    "language_info": {
      "name": "python"
    }
  },
  "cells": [
    {
      "cell_type": "code",
      "execution_count": 1,
      "metadata": {
        "colab": {
          "base_uri": "https://localhost:8080/"
        },
        "id": "YsjZjxPxK0BU",
        "outputId": "7e460034-061e-4e14-f3d0-8f06056c33fe"
      },
      "outputs": [
        {
          "output_type": "stream",
          "name": "stdout",
          "text": [
            "--- Hebbian Learning Implementation (Bipolar AND) ---\n",
            "Initial Weights: [0. 0.]\n",
            "Initial Bias: 0\n",
            "------------------------------\n",
            "Epoch 1: Input X=[-1 -1], Target y=-1\n",
            "  Delta W: [1. 1.]\n",
            "  New Weights: [1. 1.]\n",
            "  New Bias: -1.0\n",
            "------------------------------\n",
            "Epoch 2: Input X=[-1  1], Target y=-1\n",
            "  Delta W: [ 1. -1.]\n",
            "  New Weights: [2. 0.]\n",
            "  New Bias: -2.0\n",
            "------------------------------\n",
            "Epoch 3: Input X=[ 1 -1], Target y=-1\n",
            "  Delta W: [-1.  1.]\n",
            "  New Weights: [1. 1.]\n",
            "  New Bias: -3.0\n",
            "------------------------------\n",
            "Epoch 4: Input X=[1 1], Target y=1\n",
            "  Delta W: [1. 1.]\n",
            "  New Weights: [2. 2.]\n",
            "  New Bias: -2.0\n",
            "------------------------------\n",
            "\n",
            "--- Final Prediction Test ---\n",
            "Input: [-1 -1], Target: -1, Prediction: -1\n",
            "Input: [-1  1], Target: -1, Prediction: -1\n",
            "Input: [ 1 -1], Target: -1, Prediction: -1\n",
            "Input: [1 1], Target: 1, Prediction: 1\n"
          ]
        }
      ],
      "source": [
        "import numpy as np\n",
        "\n",
        "# Bipolar inputs (X) and Bipolar targets (y) for AND gate\n",
        "# Input: (X1, X2), Target (y)\n",
        "training_data = [\n",
        "    (np.array([-1, -1]), -1),\n",
        "    (np.array([-1, 1]), -1),\n",
        "    (np.array([1, -1]), -1),\n",
        "    (np.array([1, 1]), 1)\n",
        "]\n",
        "\n",
        "# Initialize weights and bias\n",
        "num_inputs = 2\n",
        "weights = np.zeros(num_inputs)\n",
        "bias = 0\n",
        "learning_rate = 1.0 # Standard for Hebbian rule\n",
        "\n",
        "print(\"--- Hebbian Learning Implementation (Bipolar AND) ---\")\n",
        "print(f\"Initial Weights: {weights}\")\n",
        "print(f\"Initial Bias: {bias}\")\n",
        "print(\"-\" * 30)\n",
        "\n",
        "# Training loop\n",
        "for epoch, (X, target) in enumerate(training_data):\n",
        "    print(f\"Epoch {epoch+1}: Input X={X}, Target y={target}\")\n",
        "\n",
        "    # Hebbian Weight Update Rule: W_new = W_old + LR * X * y\n",
        "    delta_W = learning_rate * X * target\n",
        "    weights = weights + delta_W\n",
        "\n",
        "    # Hebbian Bias Update Rule: Bias_new = Bias_old + LR * y\n",
        "    delta_Bias = learning_rate * target\n",
        "    bias = bias + delta_Bias\n",
        "\n",
        "    print(f\"  Delta W: {delta_W}\")\n",
        "    print(f\"  New Weights: {weights}\")\n",
        "    print(f\"  New Bias: {bias}\")\n",
        "    print(\"-\" * 30)\n",
        "\n",
        "# Test the final weights (using a simple activation function)\n",
        "def hebbian_predict(X, W, B):\n",
        "    net_input = np.dot(X, W) + B\n",
        "    return 1 if net_input >= 0 else -1\n",
        "\n",
        "print(\"\\n--- Final Prediction Test ---\")\n",
        "for X, target in training_data:\n",
        "    prediction = hebbian_predict(X, weights, bias)\n",
        "    print(f\"Input: {X}, Target: {target}, Prediction: {prediction}\")"
      ]
    }
  ]
}