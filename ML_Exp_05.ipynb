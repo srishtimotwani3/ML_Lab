{
  "nbformat": 4,
  "nbformat_minor": 0,
  "metadata": {
    "colab": {
      "provenance": []
    },
    "kernelspec": {
      "name": "python3",
      "display_name": "Python 3"
    },
    "language_info": {
      "name": "python"
    }
  },
  "cells": [
    {
      "cell_type": "code",
      "execution_count": null,
      "metadata": {
        "colab": {
          "base_uri": "https://localhost:8080/"
        },
        "id": "IWO_ipp-9yEr",
        "outputId": "7f6b30a9-6262-4f0e-8d71-1b3246a943c7"
      },
      "outputs": [
        {
          "output_type": "stream",
          "name": "stdout",
          "text": [
            "Logistic Regression:\n",
            "  Mean Accuracy: 0.9733\n",
            "  Standard Deviation: 0.0249\n",
            "\n",
            "  Bias (Training Error Mean): 0.0250\n",
            "  Variance (Test Error Mean): 0.0267\n",
            "  Variance of Errors: 0.0249\n",
            "\n",
            "Decision Tree:\n",
            "  Mean Accuracy: 0.9533\n",
            "  Standard Deviation: 0.0267\n",
            "\n",
            "  Bias (Training Error Mean): 0.0033\n",
            "  Variance (Test Error Mean): 0.0467\n",
            "  Variance of Errors: 0.0267\n",
            "\n"
          ]
        }
      ],
      "source": [
        "import numpy as np\n",
        "from sklearn.model_selection import cross_val_score, KFold\n",
        "from sklearn.datasets import load_iris\n",
        "from sklearn.linear_model import LogisticRegression\n",
        "from sklearn.tree import DecisionTreeClassifier\n",
        "\n",
        "# Load dataset\n",
        "data = load_iris()\n",
        "X, y = data.data, data.target\n",
        "\n",
        "# Define models\n",
        "models = {\n",
        "    'Logistic Regression': LogisticRegression(),\n",
        "    'Decision Tree': DecisionTreeClassifier(max_depth=5)\n",
        "}\n",
        "\n",
        "# Cross-validation setup\n",
        "kf = KFold(n_splits=5, shuffle=True, random_state=42)\n",
        "\n",
        "# Perform Cross-Validation\n",
        "for model_name, model in models.items():\n",
        "    scores = cross_val_score(model, X, y, cv=kf, scoring='accuracy')\n",
        "    print(f\"{model_name}:\")\n",
        "    print(f\"  Mean Accuracy: {scores.mean():.4f}\")\n",
        "    print(f\"  Standard Deviation: {scores.std():.4f}\\n\")\n",
        "\n",
        "    # Bias and Variance Analysis\n",
        "    train_errors = []\n",
        "    test_errors = []\n",
        "\n",
        "    for train_idx, test_idx in kf.split(X):\n",
        "        X_train, X_test = X[train_idx], X[test_idx]\n",
        "        y_train, y_test = y[train_idx], y[test_idx]\n",
        "\n",
        "        model.fit(X_train, y_train)\n",
        "\n",
        "        # Calculate training and testing error\n",
        "        train_error = 1 - model.score(X_train, y_train)\n",
        "        test_error = 1 - model.score(X_test, y_test)\n",
        "\n",
        "        train_errors.append(train_error)\n",
        "        test_errors.append(test_error)\n",
        "\n",
        "    print(f\"  Bias (Training Error Mean): {np.mean(train_errors):.4f}\")\n",
        "    print(f\"  Variance (Test Error Mean): {np.mean(test_errors):.4f}\")\n",
        "    print(f\"  Variance of Errors: {np.std(test_errors):.4f}\\n\")\n"
      ]
    }
  ]
}